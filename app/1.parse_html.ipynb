{
 "cells": [
  {
   "cell_type": "code",
   "execution_count": null,
   "metadata": {},
   "outputs": [],
   "source": [
    "from bs4 import BeautifulSoup\n",
    "import pandas as pd"
   ]
  },
  {
   "cell_type": "code",
   "execution_count": 2,
   "metadata": {},
   "outputs": [],
   "source": [
    "filepath = \"C:\\\\Users\\\\hlmq\\\\code\\\\esv_bible_qa\\\\app\\\\src\\\\short_name_book_mapping.csv\"\n",
    "\n",
    "book_lookup_df = pd.read_csv(filepath)"
   ]
  },
  {
   "cell_type": "code",
   "execution_count": null,
   "metadata": {},
   "outputs": [],
   "source": [
    "# ------------- #\n",
    "# HTML Parsing\n",
    "# ------------- #\n",
    "\n",
    "def parse_html_file(file_path):\n",
    "    \"\"\"\n",
    "    Parses an HTML file and extracts data.\n",
    "\n",
    "    Args:\n",
    "        file_path (str): The path to the HTML file.\n",
    "\n",
    "    Returns:\n",
    "        bs4.BeautifulSoup: A BeautifulSoup object representing the parsed HTML.\n",
    "    \"\"\"\n",
    "    try:\n",
    "        with open(file_path, 'r', encoding='utf-8') as file:\n",
    "            html_content = file.read()\n",
    "        soup = BeautifulSoup(html_content, 'html.parser')\n",
    "        return soup\n",
    "    except FileNotFoundError:\n",
    "         print(f\"Error: File not found at '{file_path}'\")\n",
    "         return None\n",
    "    \n",
    "\n",
    "\n",
    "# ------------- #\n",
    "# Verses\n",
    "# ------------- #\n",
    "\n",
    "def match_book_names_to_short_names(short_code:str, book_lookup_df:dict[str,str]=book_lookup_df)->dict[str,str]:\n",
    "    \"\"\" Creates a list of the full name of a book with the same length as list_of_verses. \"\"\"\n",
    "    book_name = book_lookup_df.loc[book_lookup_df['Short Name'] == short_code, 'Book'].values\n",
    "    return book_name[0]\n",
    "\n",
    "\n",
    "def parse_verse(list_of_verses:list[str]):\n",
    "    \"\"\" Global function to orchestrate each of the pieces to parse from the verse string. \"\"\"\n",
    "\n",
    "\n",
    "    book_list = []\n",
    "    chapter_list = []\n",
    "    start_verse_list = []\n",
    "    end_verse_list = []\n",
    "\n",
    "    # Iterate the values\n",
    "    for item in list_of_verses:\n",
    "        # Item looks like: 'Ge 1:1-2'\n",
    "        \n",
    "        # Get book\n",
    "        short_code = item.split(\" \")[0]\n",
    "        book = match_book_names_to_short_names(short_code=short_code)\n",
    "        # Get chapter\n",
    "        chapter = item.split(\" \")[1].split(\":\")[0]\n",
    "        # Start, End Verse.  Handles when only one verse is listed.\n",
    "        if \"-\" in item:\n",
    "            start_verse = item.split(\" \")[1].split(\":\")[1].split(\"-\")[0]\n",
    "            end_verse = item.split(\"-\")[1]\n",
    "        else:\n",
    "            start_verse = item.split(\" \")[1].split(\":\")[1]\n",
    "            end_verse = start_verse\n",
    "        \n",
    "        # Append values to lists\n",
    "        book_list.append(book)\n",
    "        chapter_list.append(chapter)\n",
    "        start_verse_list.append(start_verse)\n",
    "        end_verse_list.append(end_verse)\n",
    "\n",
    "    return book_list, chapter_list, start_verse_list, end_verse_list\n",
    "\n",
    "\n",
    "# ------------- #\n",
    "# Summaries\n",
    "# ------------- #\n",
    "\n",
    "def clean_verse_summaries(list_of_summaries:list[str])->list[str]:\n",
    "    \"\"\" Strips off unnecessary text from strings in a list. \"\"\"\n",
    "    clean_list_of_summaries = []\n",
    "\n",
    "    for item in list_of_summaries:\n",
    "        # Cast as a string\n",
    "        item = str(item)\n",
    "        # Remove stuff on the left\n",
    "        item = item.replace(\"<td class=\\\"summary\\\">\", \"\")\n",
    "        # Remove stuff on the right\n",
    "        item = item.replace(\"</td>\", \"\")\n",
    "        # Add cleaned obs to list\n",
    "        clean_list_of_summaries.append(item)\n",
    "    \n",
    "    return clean_list_of_summaries\n",
    "\n",
    "\n"
   ]
  },
  {
   "cell_type": "markdown",
   "metadata": {},
   "source": [
    "## Handle Verses"
   ]
  },
  {
   "cell_type": "code",
   "execution_count": 4,
   "metadata": {},
   "outputs": [],
   "source": [
    "book_name = \"genesis\"\n",
    "\n",
    "file_path = f\"C:\\\\Users\\\\hlmq\\\\OneDrive - Chevron\\\\Desktop\\\\Projects\\\\Bible\\\\Outline for Book {book_name}.html\"\n",
    "\n",
    "# Parse the html\n",
    "soup = parse_html_file(file_path)\n",
    "\n",
    "if soup:\n",
    "    # Extract all verses\n",
    "    verses = [a.text for a in soup.find_all('a', class_=\"vcVerseLink\")]\n",
    "    \n",
    "    # Extract all summaries\n",
    "    summaries = [a for a in soup.find_all('td', class_=\"summary\")]"
   ]
  },
  {
   "cell_type": "code",
   "execution_count": 5,
   "metadata": {},
   "outputs": [],
   "source": [
    "book_list, chapter_list, start_verse_list, end_verse_list = parse_verse(verses)"
   ]
  },
  {
   "cell_type": "markdown",
   "metadata": {},
   "source": [
    "## Handle Summaries"
   ]
  },
  {
   "cell_type": "code",
   "execution_count": 6,
   "metadata": {},
   "outputs": [],
   "source": [
    "clean_summaries = clean_verse_summaries(summaries)"
   ]
  },
  {
   "cell_type": "markdown",
   "metadata": {},
   "source": [
    "## Compile Results and Output"
   ]
  },
  {
   "cell_type": "code",
   "execution_count": null,
   "metadata": {},
   "outputs": [],
   "source": [
    "output = pd.DataFrame()\n",
    "\n",
    "output['Book'] = book_list\n",
    "output['Chapter'] = chapter_list\n",
    "output['Start Verse'] = start_verse_list\n",
    "output['End Verse'] = end_verse_list\n",
    "output['Summary'] = clean_summaries\n",
    "\n",
    "output.head()"
   ]
  },
  {
   "cell_type": "code",
   "execution_count": null,
   "metadata": {},
   "outputs": [],
   "source": [
    "output.tail()"
   ]
  },
  {
   "cell_type": "code",
   "execution_count": null,
   "metadata": {},
   "outputs": [],
   "source": []
  }
 ],
 "metadata": {
  "kernelspec": {
   "display_name": "base",
   "language": "python",
   "name": "python3"
  },
  "language_info": {
   "codemirror_mode": {
    "name": "ipython",
    "version": 3
   },
   "file_extension": ".py",
   "mimetype": "text/x-python",
   "name": "python",
   "nbconvert_exporter": "python",
   "pygments_lexer": "ipython3",
   "version": "3.9.13"
  }
 },
 "nbformat": 4,
 "nbformat_minor": 2
}
