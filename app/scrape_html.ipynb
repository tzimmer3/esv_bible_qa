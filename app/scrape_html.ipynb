{
 "cells": [
  {
   "cell_type": "code",
   "execution_count": 1,
   "metadata": {},
   "outputs": [],
   "source": [
    "from selenium import webdriver\n",
    "import codecs\n",
    "import os"
   ]
  },
  {
   "cell_type": "code",
   "execution_count": null,
   "metadata": {},
   "outputs": [],
   "source": [
    "def retrieve_html_content(url:str=None):\n",
    "    # Set Up Edge options\n",
    "    edge_options = webdriver.EdgeOptions()\n",
    "    driver = webdriver.Edge(options=edge_options)\n",
    "    # Wait\n",
    "    driver.implicitly_wait(0.5)\n",
    "    # Maximize Browser\n",
    "    driver.maximize_window()\n",
    "    # Launch URL\n",
    "    driver.get(url)\n",
    "    # Retrieve Page Source\n",
    "    html_content = driver.page_source\n",
    "    # Kill Driver\n",
    "    driver.quit()\n",
    "\n",
    "    return html_content\n",
    "\n",
    "\n",
    "def create_empty_file(file_full_filepath:str=None, html_content:str=None):\n",
    "    # Open file in write mode with encoding\n",
    "    file = codecs.open(file_full_filepath, \"w\", \"utf−8\")\n",
    "    file.write(html_content)\n"
   ]
  },
  {
   "cell_type": "code",
   "execution_count": 6,
   "metadata": {},
   "outputs": [],
   "source": [
    "# Instantiate Variables\n",
    "\n",
    "book = \"genesis\"\n",
    "url = f\"https://www.biblestudystart.com/outlines/{book}.html\"\n",
    "file_full_filepath = f\"C:\\\\Users\\\\hlmq\\\\OneDrive - Chevron\\\\Desktop\\\\Projects\\\\Bible\\\\Outline for Book {book}.html\"\n",
    "\n",
    "\n",
    "# Make connection to webpage and retrieve html\n",
    "html_content = retrieve_html_content(url)\n",
    "create_empty_file(file_full_filepath=file_full_filepath, html_content=html_content)"
   ]
  },
  {
   "cell_type": "code",
   "execution_count": null,
   "metadata": {},
   "outputs": [],
   "source": []
  }
 ],
 "metadata": {
  "kernelspec": {
   "display_name": "he_summit_env",
   "language": "python",
   "name": "python3"
  },
  "language_info": {
   "codemirror_mode": {
    "name": "ipython",
    "version": 3
   },
   "file_extension": ".py",
   "mimetype": "text/x-python",
   "name": "python",
   "nbconvert_exporter": "python",
   "pygments_lexer": "ipython3",
   "version": "3.9.5"
  }
 },
 "nbformat": 4,
 "nbformat_minor": 2
}
